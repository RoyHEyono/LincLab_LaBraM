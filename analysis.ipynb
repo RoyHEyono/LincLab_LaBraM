{
 "cells": [
  {
   "cell_type": "code",
   "execution_count": 1,
   "metadata": {},
   "outputs": [],
   "source": [
    "import torch\n",
    "from einops import rearrange\n",
    "from timm.models import create_model\n",
    "from optim_factory import create_optimizer\n",
    "\n",
    "from engine_for_vqnsp import evaluate, train_one_epoch, calculate_codebook_usage\n",
    "from utils import NativeScalerWithGradNormCount as NativeScaler\n",
    "import modeling_vqnsp\n",
    "import utils"
   ]
  },
  {
   "cell_type": "code",
   "execution_count": 49,
   "metadata": {},
   "outputs": [
    {
     "name": "stdout",
     "output_type": "stream",
     "text": [
      "{}\n",
      "Final encoder config {'EEG_size': 1600, 'patch_size': 200, 'in_chans': 1, 'num_classes': 0, 'embed_dim': 200, 'depth': 12, 'num_heads': 10, 'mlp_ratio': 4.0, 'qkv_bias': True, 'qk_scale': None, 'drop_rate': 0.0, 'attn_drop_rate': 0.0, 'drop_path_rate': 0.0, 'norm_layer': functools.partial(<class 'torch.nn.modules.normalization.LayerNorm'>, eps=1e-06), 'init_values': 0.0, 'use_abs_pos_emb': True, 'use_rel_pos_bias': False, 'use_shared_rel_pos_bias': False, 'use_mean_pooling': True, 'init_scale': 0.001}\n",
      "Final decoder config {'EEG_size': 8, 'patch_size': 1, 'in_chans': 64, 'num_classes': 0, 'embed_dim': 200, 'depth': 3, 'num_heads': 10, 'mlp_ratio': 4.0, 'qkv_bias': True, 'qk_scale': None, 'drop_rate': 0.0, 'attn_drop_rate': 0.0, 'drop_path_rate': 0.0, 'norm_layer': functools.partial(<class 'torch.nn.modules.normalization.LayerNorm'>, eps=1e-06), 'init_values': 0.0, 'use_abs_pos_emb': True, 'use_rel_pos_bias': False, 'use_shared_rel_pos_bias': False, 'use_mean_pooling': True, 'init_scale': 0.001}\n"
     ]
    }
   ],
   "source": [
    "model = create_model(\n",
    "        'vqnsp_encoder_base_decoder_3x200x12',\n",
    "        pretrained=False,\n",
    "        as_tokenzer=False,\n",
    "        n_code=8192,\n",
    "        code_dim=64,\n",
    "        EEG_size=1600,\n",
    "        decay=0.99,\n",
    "        quantize_kmeans_init=True\n",
    "    )"
   ]
  },
  {
   "cell_type": "code",
   "execution_count": 50,
   "metadata": {},
   "outputs": [],
   "source": [
    "model_state_dict = torch.load(\"/home/mila/r/roy.eyono/LaBraM/checkpoints/vqnsp/checkpoint-99.pth\")"
   ]
  },
  {
   "cell_type": "code",
   "execution_count": 51,
   "metadata": {},
   "outputs": [
    {
     "data": {
      "text/plain": [
       "<All keys matched successfully>"
      ]
     },
     "execution_count": 51,
     "metadata": {},
     "output_type": "execute_result"
    }
   ],
   "source": [
    "model.load_state_dict(model_state_dict[\"model\"])"
   ]
  },
  {
   "cell_type": "code",
   "execution_count": 56,
   "metadata": {},
   "outputs": [
    {
     "data": {
      "text/plain": [
       "VQNSP(\n",
       "  (encoder): NeuralTransformer(\n",
       "    (patch_embed): TemporalConv(\n",
       "      (conv1): Conv2d(1, 8, kernel_size=(1, 15), stride=(1, 8), padding=(0, 7))\n",
       "      (gelu1): GELU(approximate='none')\n",
       "      (norm1): GroupNorm(4, 8, eps=1e-05, affine=True)\n",
       "      (conv2): Conv2d(8, 8, kernel_size=(1, 3), stride=(1, 1), padding=(0, 1))\n",
       "      (gelu2): GELU(approximate='none')\n",
       "      (norm2): GroupNorm(4, 8, eps=1e-05, affine=True)\n",
       "      (conv3): Conv2d(8, 8, kernel_size=(1, 3), stride=(1, 1), padding=(0, 1))\n",
       "      (norm3): GroupNorm(4, 8, eps=1e-05, affine=True)\n",
       "      (gelu3): GELU(approximate='none')\n",
       "    )\n",
       "    (pos_drop): Dropout(p=0.0, inplace=False)\n",
       "    (blocks): ModuleList(\n",
       "      (0-11): 12 x Block(\n",
       "        (norm1): LayerNorm((200,), eps=1e-06, elementwise_affine=True)\n",
       "        (attn): Attention(\n",
       "          (qkv): Linear(in_features=200, out_features=600, bias=False)\n",
       "          (attn_drop): Dropout(p=0.0, inplace=False)\n",
       "          (proj): Linear(in_features=200, out_features=200, bias=True)\n",
       "          (proj_drop): Dropout(p=0.0, inplace=False)\n",
       "        )\n",
       "        (drop_path): Identity()\n",
       "        (norm2): LayerNorm((200,), eps=1e-06, elementwise_affine=True)\n",
       "        (mlp): Mlp(\n",
       "          (fc1): Linear(in_features=200, out_features=800, bias=True)\n",
       "          (act): GELU(approximate='none')\n",
       "          (fc2): Linear(in_features=800, out_features=200, bias=True)\n",
       "          (drop): Dropout(p=0.0, inplace=False)\n",
       "        )\n",
       "      )\n",
       "    )\n",
       "    (norm): Identity()\n",
       "    (fc_norm): LayerNorm((200,), eps=1e-06, elementwise_affine=True)\n",
       "    (head): Identity()\n",
       "  )\n",
       "  (decoder): NeuralTransformer(\n",
       "    (patch_embed): PatchEmbed(\n",
       "      (proj): Conv2d(64, 200, kernel_size=(1, 1), stride=(1, 1))\n",
       "    )\n",
       "    (pos_drop): Dropout(p=0.0, inplace=False)\n",
       "    (blocks): ModuleList(\n",
       "      (0-2): 3 x Block(\n",
       "        (norm1): LayerNorm((200,), eps=1e-06, elementwise_affine=True)\n",
       "        (attn): Attention(\n",
       "          (qkv): Linear(in_features=200, out_features=600, bias=False)\n",
       "          (attn_drop): Dropout(p=0.0, inplace=False)\n",
       "          (proj): Linear(in_features=200, out_features=200, bias=True)\n",
       "          (proj_drop): Dropout(p=0.0, inplace=False)\n",
       "        )\n",
       "        (drop_path): Identity()\n",
       "        (norm2): LayerNorm((200,), eps=1e-06, elementwise_affine=True)\n",
       "        (mlp): Mlp(\n",
       "          (fc1): Linear(in_features=200, out_features=800, bias=True)\n",
       "          (act): GELU(approximate='none')\n",
       "          (fc2): Linear(in_features=800, out_features=200, bias=True)\n",
       "          (drop): Dropout(p=0.0, inplace=False)\n",
       "        )\n",
       "      )\n",
       "    )\n",
       "    (norm): Identity()\n",
       "    (fc_norm): LayerNorm((200,), eps=1e-06, elementwise_affine=True)\n",
       "    (head): Identity()\n",
       "  )\n",
       "  (quantize): NormEMAVectorQuantizer(\n",
       "    (embedding): EmbeddingEMA()\n",
       "    (all_reduce_fn): Identity()\n",
       "  )\n",
       "  (encode_task_layer): Sequential(\n",
       "    (0): Linear(in_features=200, out_features=200, bias=True)\n",
       "    (1): Tanh()\n",
       "    (2): Linear(in_features=200, out_features=64, bias=True)\n",
       "  )\n",
       "  (decode_task_layer): Sequential(\n",
       "    (0): Linear(in_features=200, out_features=200, bias=True)\n",
       "    (1): Tanh()\n",
       "    (2): Linear(in_features=200, out_features=200, bias=True)\n",
       "  )\n",
       "  (decode_task_layer_angle): Sequential(\n",
       "    (0): Linear(in_features=200, out_features=200, bias=True)\n",
       "    (1): Tanh()\n",
       "    (2): Linear(in_features=200, out_features=200, bias=True)\n",
       "  )\n",
       ")"
      ]
     },
     "execution_count": 56,
     "metadata": {},
     "output_type": "execute_result"
    }
   ],
   "source": [
    "model.to('cuda')"
   ]
  },
  {
   "cell_type": "code",
   "execution_count": 52,
   "metadata": {},
   "outputs": [],
   "source": [
    "def std_norm(x):\n",
    "        mean = torch.mean(x, dim=(1, 2, 3), keepdim=True)\n",
    "        std = torch.std(x, dim=(1, 2, 3), keepdim=True)\n",
    "        x = (x - mean) / std\n",
    "        return x"
   ]
  },
  {
   "cell_type": "code",
   "execution_count": 53,
   "metadata": {},
   "outputs": [],
   "source": [
    "dataset_val_list, val_ch_names_list = utils.build_pretraining_dataset([[\"/network/scratch/r/roy.eyono/eeg_processed/alexeeg.hdf5\"]], [4])"
   ]
  },
  {
   "cell_type": "code",
   "execution_count": 54,
   "metadata": {},
   "outputs": [],
   "source": [
    "sampler_val = torch.utils.data.SequentialSampler(dataset_val_list[0])\n",
    "data_loader_val = torch.utils.data.DataLoader(\n",
    "    dataset_val_list[0], sampler=sampler_val,\n",
    "    batch_size=int(1.5 * 128),\n",
    "    num_workers=10,\n",
    "    pin_memory=True,\n",
    "    drop_last=False\n",
    ")"
   ]
  },
  {
   "cell_type": "code",
   "execution_count": 79,
   "metadata": {},
   "outputs": [
    {
     "name": "stderr",
     "output_type": "stream",
     "text": [
      "/home/mila/r/roy.eyono/.conda/envs/labram/lib/python3.11/site-packages/torch/utils/data/dataloader.py:560: UserWarning: This DataLoader will create 10 worker processes in total. Our suggested max number of worker in current system is 4, which is smaller than what this DataLoader is going to create. Please be aware that excessive worker creation might get DataLoader running slow or even freeze, lower the worker number to avoid potential slowness/freeze if necessary.\n",
      "  warnings.warn(_create_warning_msg(\n"
     ]
    },
    {
     "name": "stdout",
     "output_type": "stream",
     "text": [
      "torch.Size([192, 16, 800])\n",
      "torch.Size([192, 16, 4, 200])\n",
      "torch.Size([192, 64, 200])\n"
     ]
    }
   ],
   "source": [
    "input_chans = utils.get_input_chans(val_ch_names_list[0])\n",
    "for eeg in data_loader_val:\n",
    "        print(eeg.shape)\n",
    "        x = eeg.float().cuda()\n",
    "        x = rearrange(x, 'B N (A T) -> B N A T', T=200)\n",
    "        print(x.shape)\n",
    "        x_fft = torch.fft.fft(x, dim=-1)\n",
    "        amplitude = torch.abs(x_fft)\n",
    "        amplitude = std_norm(amplitude)\n",
    "        angle = torch.angle(x_fft)\n",
    "        angle = std_norm(angle)\n",
    "        quantize, embed_ind, emb_loss = model.encode(x, input_chans)\n",
    "        xrec, xrec_angle = model.decode(quantize, input_chans)\n",
    "        break\n",
    "\n",
    "print(xrec.shape)\n",
    "\n"
   ]
  },
  {
   "cell_type": "code",
   "execution_count": 82,
   "metadata": {},
   "outputs": [
    {
     "data": {
      "image/png": "[encoded data removed]",
      "text/plain": [
       "<Figure size 640x480 with 1 Axes>"
      ]
     },
     "metadata": {},
     "output_type": "display_data"
    }
   ],
   "source": [
    "import json\n",
    "import matplotlib.pyplot as plt\n",
    "from datetime import datetime\n",
    "\n",
    "# Initialize lists to store time points and values\n",
    "timestamps = []\n",
    "values = []\n",
    "\n",
    "# Open and read the log file\n",
    "with open('/home/mila/r/roy.eyono/LaBraM/checkpoints/vqnsp/log.txt', 'r') as f:\n",
    "    for line in f:\n",
    "        # Parse each line as a JSON object (dictionary)\n",
    "        data = json.loads(line)\n",
    "        \n",
    "        # Extract the timestamp and the field of interest\n",
    "        value = data['train_rec_loss']  # Replace 'value' with your desired field name\n",
    "        \n",
    "        values.append(value)\n",
    "\n",
    "# Plot the field over time\n",
    "plt.plot(values, marker='o')\n",
    "plt.xlabel('Epoch')\n",
    "plt.ylabel('train_rec_loss')  # Replace 'Value' with your field's name\n",
    "plt.grid(True)\n",
    "plt.xticks(rotation=45)  # Rotate x-axis labels for better readability\n",
    "plt.tight_layout()  # Adjust layout to prevent clipping of labels\n",
    "plt.show()"
   ]
  }
 ],
 "metadata": {
  "kernelspec": {
   "display_name": "Python 3.11.9 ('labram')",
   "language": "python",
   "name": "python3"
  },
  "language_info": {
   "codemirror_mode": {
    "name": "ipython",
    "version": 3
   },
   "file_extension": ".py",
   "mimetype": "text/x-python",
   "name": "python",
   "nbconvert_exporter": "python",
   "pygments_lexer": "ipython3",
   "version": "3.11.9"
  },
  "orig_nbformat": 4,
  "vscode": {
   "interpreter": {
    "hash": "e43eeaa529925ffba5551831f5849821f7bc7c40932879720c3b5cecda1a214a"
   }
  }
 },
 "nbformat": 4,
 "nbformat_minor": 2
}
